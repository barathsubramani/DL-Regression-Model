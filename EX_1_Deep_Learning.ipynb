{
  "cells": [
    {
      "cell_type": "markdown",
      "id": "5dfccf2f-8050-4409-98d3-6b09f74fdbf7",
      "metadata": {
        "id": "5dfccf2f-8050-4409-98d3-6b09f74fdbf7"
      },
      "source": [
        "📌 Step 1: Import Required Libraries"
      ]
    },
    {
      "cell_type": "code",
      "execution_count": 43,
      "id": "a679357c-a2b2-4817-b33f-348c62d5a10b",
      "metadata": {
        "id": "a679357c-a2b2-4817-b33f-348c62d5a10b"
      },
      "outputs": [],
      "source": [
        "import torch\n",
        "import torch.nn as nn  # Neural network module\n",
        "import numpy as np\n",
        "import matplotlib.pyplot as plt  # For plotting\n",
        "%matplotlib inline"
      ]
    },
    {
      "cell_type": "markdown",
      "id": "9b661989-7238-4424-87b7-425c525bdba1",
      "metadata": {
        "id": "9b661989-7238-4424-87b7-425c525bdba1"
      },
      "source": [
        "[link text](https:// [link text](https://))📌 Step 2: Generate Random Data"
      ]
    },
    {
      "cell_type": "code",
      "execution_count": 44,
      "id": "7495be24-eacb-4080-b213-83b1564d18df",
      "metadata": {
        "id": "7495be24-eacb-4080-b213-83b1564d18df"
      },
      "outputs": [],
      "source": [
        "X = torch.linspace(1,70,70).reshape(-1,1)\n",
        "\n",
        "#torch.manual_seed(42)  # Ensures the same random numbers every time\n",
        "#X = torch.rand(100, 1) * 100  # 100 random values (0 to 100)\n",
        "#y = X * 2 + 1 + torch.randn(100, 1) * 10  # True function: y = 2x + noise"
      ]
    },
    {
      "cell_type": "code",
      "execution_count": 45,
      "id": "d45978c3-c234-4ecf-947c-1e92b21ec392",
      "metadata": {
        "id": "d45978c3-c234-4ecf-947c-1e92b21ec392"
      },
      "outputs": [],
      "source": [
        "torch.manual_seed(71) # to obtain reproducible results\n",
        "e = torch.randint(-8,9,(70,1),dtype=torch.float)\n",
        "#print(e.sum())"
      ]
    },
    {
      "cell_type": "code",
      "execution_count": 46,
      "id": "4fa8e459-425c-4d93-95cc-381b9151c75b",
      "metadata": {
        "colab": {
          "base_uri": "https://localhost:8080/"
        },
        "id": "4fa8e459-425c-4d93-95cc-381b9151c75b",
        "outputId": "e0de664e-9ad7-44b8-f4c5-21cef5d80979"
      },
      "outputs": [
        {
          "output_type": "stream",
          "name": "stdout",
          "text": [
            "torch.Size([70, 1])\n"
          ]
        }
      ],
      "source": [
        "y = 2*X + 1 + e\n",
        "print(y.shape)"
      ]
    },
    {
      "cell_type": "markdown",
      "id": "102a61a9-8059-4d41-9149-f70321c1415a",
      "metadata": {
        "id": "102a61a9-8059-4d41-9149-f70321c1415a"
      },
      "source": [
        "📌 Step 3: Visualizing the Data"
      ]
    },
    {
      "cell_type": "code",
      "execution_count": 47,
      "id": "0144fa22-c11f-4b5a-93f0-8f2a0022a645",
      "metadata": {
        "colab": {
          "base_uri": "https://localhost:8080/",
          "height": 472
        },
        "id": "0144fa22-c11f-4b5a-93f0-8f2a0022a645",
        "outputId": "c33eda74-dd66-457f-f1e5-e0e883ee6a69"
      },
      "outputs": [
        {
          "output_type": "display_data",
          "data": {
            "text/plain": [
              "<Figure size 640x480 with 1 Axes>"
            ],
            "image/png": "[encoded data removed]"
          },
          "metadata": {}
        }
      ],
      "source": [
        "plt.scatter(X.numpy(), y.numpy(),color='red')  # Scatter plot of data points\n",
        "plt.xlabel('x')\n",
        "plt.ylabel('y')\n",
        "plt.title('Generated Data for Linear Regression')\n",
        "plt.show()"
      ]
    },
    {
      "cell_type": "markdown",
      "id": "687e4376-60c0-436f-a03f-2106dddc2611",
      "metadata": {
        "id": "687e4376-60c0-436f-a03f-2106dddc2611"
      },
      "source": [
        "📌 Step 4: Define a Linear Regression Model"
      ]
    },
    {
      "cell_type": "code",
      "execution_count": 48,
      "id": "44c0f458-2fc9-4b3f-a3bf-ae3e94c40a1f",
      "metadata": {
        "id": "44c0f458-2fc9-4b3f-a3bf-ae3e94c40a1f"
      },
      "outputs": [],
      "source": [
        "# Setting a manual seed for reproducibility\n",
        "torch.manual_seed(59)\n",
        "\n",
        "# Defining the model class\n",
        "class Model(nn.Module):\n",
        "    def __init__(self, in_features, out_features):\n",
        "        super().__init__()\n",
        "        self.linear = nn.Linear(in_features, out_features)\n",
        "\n",
        "    def forward(self, x):\n",
        "        y_pred = self.linear(x)\n",
        "        return y_pred"
      ]
    },
    {
      "cell_type": "code",
      "execution_count": 49,
      "id": "22e2bbf0-8102-4f82-8c16-13f5b1da6b91",
      "metadata": {
        "colab": {
          "base_uri": "https://localhost:8080/"
        },
        "id": "22e2bbf0-8102-4f82-8c16-13f5b1da6b91",
        "outputId": "d0a9a01e-e329-4f20-90f0-213acc34d740"
      },
      "outputs": [
        {
          "output_type": "stream",
          "name": "stdout",
          "text": [
            "Weight: 0.10597813129425049\n",
            "Bias:   0.9637961387634277\n"
          ]
        }
      ],
      "source": [
        "# Creating an instance of the model\n",
        "torch.manual_seed(59)\n",
        "model = Model(1, 1)\n",
        "print('Weight:', model.linear.weight.item())\n",
        "print('Bias:  ', model.linear.bias.item())"
      ]
    },
    {
      "cell_type": "markdown",
      "id": "e1ce3e8b-d471-4019-a8f5-ce1fca8b26e1",
      "metadata": {
        "id": "e1ce3e8b-d471-4019-a8f5-ce1fca8b26e1"
      },
      "source": [
        "📌 Step 6: Define the Loss Function and Optimizer"
      ]
    },
    {
      "cell_type": "code",
      "execution_count": 56,
      "id": "edcff1c9-2313-4257-ac88-29d47e3142a7",
      "metadata": {
        "id": "edcff1c9-2313-4257-ac88-29d47e3142a7"
      },
      "outputs": [],
      "source": [
        "loss_function = nn.MSELoss()  # Mean Squared Error (MSE) loss\n",
        "\n",
        "optimizer = torch.optim.SGD(model.parameters(), lr=0.0001)  # Stochastic Gradient Descent\n"
      ]
    },
    {
      "cell_type": "markdown",
      "id": "2e915f82-8fb9-4171-b157-e0d778a1ae0a",
      "metadata": {
        "id": "2e915f82-8fb9-4171-b157-e0d778a1ae0a"
      },
      "source": [
        "📌 Step 7: Training the Model"
      ]
    },
    {
      "cell_type": "code",
      "execution_count": 57,
      "id": "69ae64a8-cd00-419f-ab15-25d869a696d5",
      "metadata": {
        "colab": {
          "base_uri": "https://localhost:8080/"
        },
        "id": "69ae64a8-cd00-419f-ab15-25d869a696d5",
        "outputId": "a1cdba32-96e0-4c10-d0b7-54e85f56f108"
      },
      "outputs": [
        {
          "output_type": "stream",
          "name": "stdout",
          "text": [
            "epoch:  1  loss:        inf  weight: -3513343171511713792.00000000  bias: -74762899448397824.00000000\n",
            "epoch:  2  loss:        inf  weight: -2340409730645622784.00000000  bias: -49803212403769344.00000000\n",
            "epoch:  3  loss:        inf  weight: -1559061446136954880.00000000  bias: -33176341733965824.00000000\n",
            "epoch:  4  loss:        inf  weight: -1038567141357387776.00000000  bias: -22100370549374976.00000000\n",
            "epoch:  5  loss:        inf  weight: -691840341426307072.00000000  bias: -14722123540987904.00000000\n",
            "epoch:  6  loss:        inf  weight: -460868751277948928.00000000  bias: -9807112217559040.00000000\n",
            "epoch:  7  loss:        inf  weight: -307007217255579648.00000000  bias: -6532982412148736.00000000\n",
            "epoch:  8  loss:        inf  weight: -204512530020696064.00000000  bias: -4351924467924992.00000000\n",
            "epoch:  9  loss:        inf  weight: -136235804283371520.00000000  bias: -2899015414841344.00000000\n",
            "epoch: 10  loss:        inf  weight: -90753337569312768.00000000  bias: -1931161580339200.00000000\n",
            "epoch: 11  loss:        inf  weight: -60455233809022976.00000000  bias: -1286426725449728.00000000\n",
            "epoch: 12  loss:        inf  weight: -40272190347673600.00000000  bias: -856937310715904.00000000\n",
            "epoch: 13  loss: 2708506957131292984324258827394351104.00000000  weight: -26827276263882752.00000000  bias: -570833365893120.00000000\n",
            "epoch: 14  loss: 1201911586979156167228823267392356352.00000000  weight: -17870961634181120.00000000  bias: -380245534310400.00000000\n",
            "epoch: 15  loss: 533353611156738152051513119404457984.00000000  weight: -11904722705317888.00000000  bias: -253285663506432.00000000\n",
            "epoch: 16  loss: 236678012580293055768012265434906624.00000000  weight: -7930318346518528.00000000  bias: -168711465992192.00000000\n",
            "epoch: 17  loss: 105026892354093548220694894322122752.00000000  weight: -5282773266857984.00000000  bias: -112372467367936.00000000\n",
            "epoch: 18  loss: 46606149814141810825682913855537152.00000000  weight: -3519114203103232.00000000  bias: -74842304937984.00000000\n",
            "epoch: 19  loss: 20681683642462423409390740721106944.00000000  weight: -2344254621876224.00000000  bias: -49841627463680.00000000\n",
            "epoch: 20  loss: 9177589799366016635231597548797952.00000000  weight: -1561622996844544.00000000  bias: -33187451371520.00000000\n",
            "epoch: 21  loss: 4072596186221711879827812157227008.00000000  weight: -1040273761107968.00000000  bias: -22093290799104.00000000\n",
            "epoch: 22  loss: 1807232144121567744607121930452992.00000000  weight: -692977538170880.00000000  bias: -14702929248256.00000000\n",
            "epoch: 23  loss: 801967113267507280533715888898048.00000000  weight: -461626541080576.00000000  bias: -9779848151040.00000000\n",
            "epoch: 24  loss: 355876464622928645513423420915712.00000000  weight: -307512343527424.00000000  bias: -6500343873536.00000000\n",
            "epoch: 25  loss: 157921728359688529248999431995392.00000000  weight: -204849320820736.00000000  bias: -4315706294272.00000000\n",
            "epoch: 26  loss: 70078455805543801269947245527040.00000000  weight: -136460472680448.00000000  bias: -2860413091840.00000000\n",
            "epoch: 27  loss: 31097629235538889068953160646656.00000000  weight: -90903301586944.00000000  bias: -1890971680768.00000000\n",
            "epoch: 28  loss: 13799708100953869449523967819776.00000000  weight: -60555448549376.00000000  bias: -1245180067840.00000000\n",
            "epoch: 29  loss: 6123681966343566089894091554816.00000000  weight: -40339255590912.00000000  bias: -814987345920.00000000\n",
            "epoch: 30  loss: 2717410763608657505298207997952.00000000  weight: -26872259805184.00000000  bias: -528415653888.00000000\n",
            "epoch: 31  loss: 1205863006050635511692057903104.00000000  weight: -17901234946048.00000000  bias: -337516920832.00000000\n",
            "epoch: 32  loss: 535107024430682626386003230720.00000000  weight: -11925195849728.00000000  bias: -210350653440.00000000\n",
            "epoch: 33  loss: 237456019452351779345193238528.00000000  weight: -7944263958528.00000000  bias: -125639696384.00000000\n",
            "epoch: 34  loss: 105372137281460233164898172928.00000000  weight: -5292371214336.00000000  bias: -69210300416.00000000\n",
            "epoch: 35  loss: 46759352311367742880258981888.00000000  weight: -3525815566336.00000000  bias: -31620620288.00000000\n",
            "epoch: 36  loss: 20749665118661969975024025600.00000000  weight: -2349026508800.00000000  bias: -6581006848.00000000\n",
            "epoch: 37  loss: 9207756351487546608689610752.00000000  weight: -1565109649408.00000000  bias: 10098397184.00000000\n",
            "epoch: 38  loss: 4085981851377657721462456320.00000000  weight: -1042904252416.00000000  bias: 21208655872.00000000\n",
            "epoch: 39  loss: 1813172828729305065467150336.00000000  weight: -695037657088.00000000  bias: 28609034240.00000000\n",
            "epoch: 40  loss: 804603515966172981786312704.00000000  weight: -463306719232.00000000  bias: 33538080768.00000000\n",
            "epoch: 41  loss: 357046655894960027266449408.00000000  weight: -308939390976.00000000  bias: 36820852736.00000000\n",
            "epoch: 42  loss: 158441243118147962847363072.00000000  weight: -206107754496.00000000  bias: 39006957568.00000000\n",
            "epoch: 43  loss: 70309262363167947399102464.00000000  weight: -137606545408.00000000  bias: 40462520320.00000000\n",
            "epoch: 44  loss: 31200299499909244094775296.00000000  weight: -91974533120.00000000  bias: 41431433216.00000000\n",
            "epoch: 45  loss: 13845527735465498489389056.00000000  weight: -61576794112.00000000  bias: 42076168192.00000000\n",
            "epoch: 46  loss: 6144269186187288016584704.00000000  weight: -41327357952.00000000  bias: 42504949760.00000000\n",
            "epoch: 47  loss: 2726802320661764347265024.00000000  weight: -27838203904.00000000  bias: 42789871616.00000000\n",
            "epoch: 48  loss: 1210286266990065254137856.00000000  weight: -18852405248.00000000  bias: 42978963456.00000000\n",
            "epoch: 49  loss: 537325840635860598390784.00000000  weight: -12866507776.00000000  bias: 43104219136.00000000\n",
            "epoch: 50  loss: 238696544858159322234880.00000000  weight: -8878994432.00000000  bias: 43186950144.00000000\n"
          ]
        }
      ],
      "source": [
        "epochs = 50  # Number of training iterations\n",
        "losses = []  # List to store loss values\n",
        "\n",
        "for epoch in range(1, epochs + 1):  # Start from 1 to 50\n",
        "    optimizer.zero_grad()  # Clear previous gradients\n",
        "    y_pred = model(X)  # Forward pass\n",
        "    loss = loss_function(y_pred, y)  # Compute loss\n",
        "    losses.append(loss.item())  # Store loss value\n",
        "\n",
        "    loss.backward()  # Compute gradients\n",
        "    optimizer.step()  # Update weights\n",
        "\n",
        "    # Print loss, weight, and bias for EVERY epoch (1 to 50)\n",
        "    print(f'epoch: {epoch:2}  loss: {loss.item():10.8f}  '\n",
        "          f'weight: {model.linear.weight.item():10.8f}  '\n",
        "          f'bias: {model.linear.bias.item():10.8f}')\n"
      ]
    },
    {
      "cell_type": "markdown",
      "id": "558d6872-6ff9-47fc-b31d-c18ee26f4578",
      "metadata": {
        "id": "558d6872-6ff9-47fc-b31d-c18ee26f4578"
      },
      "source": [
        "Plot the loss values"
      ]
    },
    {
      "cell_type": "code",
      "execution_count": 58,
      "id": "29b57990-81b5-464d-ae70-a41dac38face",
      "metadata": {
        "colab": {
          "base_uri": "https://localhost:8080/",
          "height": 465
        },
        "id": "29b57990-81b5-464d-ae70-a41dac38face",
        "outputId": "ebac1f4a-0e85-434c-c303-3528778dfb3c"
      },
      "outputs": [
        {
          "output_type": "display_data",
          "data": {
            "text/plain": [
              "<Figure size 640x480 with 1 Axes>"
            ],
            "image/png": "[encoded data removed]"
          },
          "metadata": {}
        }
      ],
      "source": [
        "plt.plot(range(epochs), losses)\n",
        "plt.ylabel('Loss')\n",
        "plt.xlabel('epoch');\n",
        "plt.show()"
      ]
    },
    {
      "cell_type": "markdown",
      "id": "9161005e-1609-4fe6-882c-381e02d6dd59",
      "metadata": {
        "id": "9161005e-1609-4fe6-882c-381e02d6dd59"
      },
      "source": [
        "📌 Step 8: Extract the Learned Weight and Bias"
      ]
    },
    {
      "cell_type": "code",
      "execution_count": 59,
      "id": "41bc6992-5d28-4518-98d5-83c30bdf2a11",
      "metadata": {
        "id": "41bc6992-5d28-4518-98d5-83c30bdf2a11"
      },
      "outputs": [],
      "source": [
        "# Automatically determine x-range\n",
        "x1 = torch.tensor([X.min().item(), X.max().item()])\n",
        "\n",
        "# Extract model parameters\n",
        "w1, b1 = model.linear.weight.item(), model.linear.bias.item()\n",
        "\n",
        "# Compute y1 (predicted values)\n",
        "y1 = x1 * w1 + b1\n"
      ]
    },
    {
      "cell_type": "code",
      "execution_count": 60,
      "id": "d16f1c0e-403f-4371-93be-49d93097b6a2",
      "metadata": {
        "colab": {
          "base_uri": "https://localhost:8080/"
        },
        "id": "d16f1c0e-403f-4371-93be-49d93097b6a2",
        "outputId": "66a2de55-40d4-4a26-d1db-ae5f8ed998c9"
      },
      "outputs": [
        {
          "output_type": "stream",
          "name": "stdout",
          "text": [
            "Final Weight: -8878994432.00000000, Final Bias: 43186950144.00000000\n",
            "X range: [ 1. 70.]\n",
            "Predicted Y values: [ 3.4307957e+10 -5.7834262e+11]\n"
          ]
        }
      ],
      "source": [
        "# Print weight, bias, and x/y values\n",
        "print(f'Final Weight: {w1:.8f}, Final Bias: {b1:.8f}')\n",
        "print(f'X range: {x1.numpy()}')\n",
        "print(f'Predicted Y values: {y1.numpy()}')"
      ]
    },
    {
      "cell_type": "markdown",
      "id": "3798f67b-3cd3-4eed-80c4-62a4c84d0767",
      "metadata": {
        "id": "3798f67b-3cd3-4eed-80c4-62a4c84d0767"
      },
      "source": [
        "📌 Step 9: Plot the Best-Fit Line"
      ]
    },
    {
      "cell_type": "code",
      "execution_count": 63,
      "id": "493d04e8-d859-49f5-8733-01b309cb045a",
      "metadata": {
        "colab": {
          "base_uri": "https://localhost:8080/",
          "height": 472
        },
        "id": "493d04e8-d859-49f5-8733-01b309cb045a",
        "outputId": "416fcee7-8f1b-4276-bd5a-b2074db10442"
      },
      "outputs": [
        {
          "output_type": "display_data",
          "data": {
            "text/plain": [
              "<Figure size 640x480 with 1 Axes>"
            ],
            "image/png": "[encoded data removed]"
          },
          "metadata": {}
        }
      ],
      "source": [
        "# Plot original data and best-fit line\n",
        "plt.scatter(X.numpy(), y.numpy(), label=\"Original Data\")\n",
        "plt.plot(x1.numpy(), y1.numpy(), 'r', label=\"Best-Fit Line\")\n",
        "plt.xlabel('x')\n",
        "plt.ylabel('y')\n",
        "plt.title('Trained Model: Best-Fit Line')\n",
        "plt.legend()\n",
        "plt.show()"
      ]
    },
    {
      "cell_type": "code",
      "source": [
        "torch.save(model.state_dict(), 'Barath 212222230018')"
      ],
      "metadata": {
        "id": "aQ030ffnb_vu"
      },
      "id": "aQ030ffnb_vu",
      "execution_count": 64,
      "outputs": []
    },
    {
      "cell_type": "code",
      "source": [],
      "metadata": {
        "id": "XVbX1wzScL9R"
      },
      "id": "XVbX1wzScL9R",
      "execution_count": null,
      "outputs": []
    }
  ],
  "metadata": {
    "kernelspec": {
      "display_name": "Python 3 (ipykernel)",
      "language": "python",
      "name": "python3"
    },
    "language_info": {
      "codemirror_mode": {
        "name": "ipython",
        "version": 3
      },
      "file_extension": ".py",
      "mimetype": "text/x-python",
      "name": "python",
      "nbconvert_exporter": "python",
      "pygments_lexer": "ipython3",
      "version": "3.12.2"
    },
    "colab": {
      "provenance": []
    }
  },
  "nbformat": 4,
  "nbformat_minor": 5
}